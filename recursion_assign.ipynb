{
  "metadata": {
    "language_info": {
      "codemirror_mode": {
        "name": "python",
        "version": 3
      },
      "file_extension": ".py",
      "mimetype": "text/x-python",
      "name": "python",
      "nbconvert_exporter": "python",
      "pygments_lexer": "ipython3",
      "version": "3.8"
    },
    "kernelspec": {
      "name": "python",
      "display_name": "Python (Pyodide)",
      "language": "python"
    }
  },
  "nbformat_minor": 4,
  "nbformat": 4,
  "cells": [
    {
      "cell_type": "markdown",
      "source": "<aside>\n💡 **Question 1**\n\nGiven two strings s1 and s2, return *the lowest **ASCII** sum of deleted characters to make two strings equal*.\n\n**Example 1:**\n\n**Input:** s1 = \"sea\", s2 = \"eat\"\n\n**Output:** 231\n\n**Explanation:** Deleting \"s\" from \"sea\" adds the ASCII value of \"s\" (115) to the sum.\n\nDeleting \"t\" from \"eat\" adds 116 to the sum.\n\nAt the end, both strings are equal, and 115 + 116 = 231 is the minimum sum possible to achieve this.\n\n</aside>",
      "metadata": {}
    },
    {
      "cell_type": "code",
      "source": "def minimumDeleteSum(s1, s2):\n    m, n = len(s1), len(s2)\n    dp = [[0] * (n+1) for _ in range(m+1)]\n\n    for i in range(1, m+1):\n        dp[i][0] = dp[i-1][0] + ord(s1[i-1])\n\n    for j in range(1, n+1):\n        dp[0][j] = dp[0][j-1] + ord(s2[j-1])\n\n    for i in range(1, m+1):\n        for j in range(1, n+1):\n            if s1[i-1] == s2[j-1]:\n                dp[i][j] = dp[i-1][j-1]\n            else:\n                dp[i][j] = min(dp[i-1][j] + ord(s1[i-1]), dp[i][j-1] + ord(s2[j-1]))\n\n    return dp[m][n]\n\ns1 = \"sea\"\ns2 = \"eat\"\nresult = minimumDeleteSum(s1, s2)\nprint(result)\n",
      "metadata": {
        "trusted": true
      },
      "execution_count": 1,
      "outputs": [
        {
          "name": "stdout",
          "text": "231\n",
          "output_type": "stream"
        }
      ]
    },
    {
      "cell_type": "code",
      "source": "",
      "metadata": {},
      "execution_count": null,
      "outputs": []
    },
    {
      "cell_type": "markdown",
      "source": "<aside>\n💡 **Question 2**\n\nGiven a string s containing only three types of characters: '(', ')' and '*', return true *if* s *is **valid***.\n\nThe following rules define a **valid** string:\n\n- Any left parenthesis '(' must have a corresponding right parenthesis ')'.\n- Any right parenthesis ')' must have a corresponding left parenthesis '('.\n- Left parenthesis '(' must go before the corresponding right parenthesis ')'.\n- '*' could be treated as a single right parenthesis ')' or a single left parenthesis '(' or an empty string \"\".\n\n**Example 1:**\n\n**Input:** s = \"()\"\n\n**Output:**\n\ntrue\n\n</aside>",
      "metadata": {}
    },
    {
      "cell_type": "code",
      "source": "def isValid(s):\n    stack = []\n    \n    for c in s:\n        if c in '(*':\n            stack.append(c)\n        elif c == ')':\n            if stack and stack[-1] == '(':\n                stack.pop()\n            elif stack and stack[-1] == '*':\n                stack.pop()\n            else:\n                return False\n    \n    while stack:\n        if stack[-1] == '(':\n            return False\n        stack.pop()\n    \n    return True\n\ns = \"()\"\nresult = isValid(s)\nprint(result)\n",
      "metadata": {
        "trusted": true
      },
      "execution_count": 2,
      "outputs": [
        {
          "name": "stdout",
          "text": "True\n",
          "output_type": "stream"
        }
      ]
    },
    {
      "cell_type": "code",
      "source": "",
      "metadata": {},
      "execution_count": null,
      "outputs": []
    },
    {
      "cell_type": "markdown",
      "source": "<aside>\n💡 **Question 3**\n\nGiven two strings word1 and word2, return *the minimum number of **steps** required to make* word1 *and* word2 *the same*.\n\nIn one **step**, you can delete exactly one character in either string.\n\n**Example 1:**\n\n**Input:** word1 = \"sea\", word2 = \"eat\"\n\n**Output:** 2\n\n**Explanation:** You need one step to make \"sea\" to \"ea\" and another step to make \"eat\" to \"ea\".\n\n</aside>",
      "metadata": {}
    },
    {
      "cell_type": "code",
      "source": "def minSteps(word1, word2):\n    m, n = len(word1), len(word2)\n    dp = [[0] * (n+1) for _ in range(m+1)]\n\n    for i in range(1, m+1):\n        dp[i][0] = i\n\n    for j in range(1, n+1):\n        dp[0][j] = j\n\n    for i in range(1, m+1):\n        for j in range(1, n+1):\n            if word1[i-1] == word2[j-1]:\n                dp[i][j] = dp[i-1][j-1]\n            else:\n                dp[i][j] = min(dp[i-1][j] + 1, dp[i][j-1] + 1)\n\n    return dp[m][n]\n\nword1 = \"sea\"\nword2 = \"eat\"\nresult = minSteps(word1, word2)\nprint(result)\n",
      "metadata": {
        "trusted": true
      },
      "execution_count": 3,
      "outputs": [
        {
          "name": "stdout",
          "text": "2\n",
          "output_type": "stream"
        }
      ]
    },
    {
      "cell_type": "code",
      "source": "",
      "metadata": {},
      "execution_count": null,
      "outputs": []
    },
    {
      "cell_type": "markdown",
      "source": "<aside>\n💡 **Question 4**\n\nYou need to construct a binary tree from a string consisting of parenthesis and integers.\n\nThe whole input represents a binary tree. It contains an integer followed by zero, one or two pairs of parenthesis. The integer represents the root's value and a pair of parenthesis contains a child binary tree with the same structure.\nYou always start to construct the **left** child node of the parent first if it exists.\n**Input:** s = \"4(2(3)(1))(6(5))\"\n\n**Output:** [4,2,6,3,1,5]\n</aside>",
      "metadata": {}
    },
    {
      "cell_type": "code",
      "source": "class TreeNode:\n    def __init__(self, val=0, left=None, right=None):\n        self.val = val\n        self.left = left\n        self.right = right\n\ndef buildTree(s):\n    if not s:\n        return None\n\n    left_paren_idx = s.find('(')\n\n    if left_paren_idx == -1:\n        return TreeNode(int(s))\n\n    root_val = int(s[:left_paren_idx])\n    root = TreeNode(root_val)\n\n    right_paren_idx = findMatchingRightParen(s, left_paren_idx)\n\n    root.left = buildTree(s[left_paren_idx + 1: right_paren_idx])\n    root.right = buildTree(s[right_paren_idx + 2: -1])\n\n    return root\n\ndef findMatchingRightParen(s, left_paren_idx):\n    count = 0\n    for i in range(left_paren_idx, len(s)):\n        if s[i] == '(':\n            count += 1\n        elif s[i] == ')':\n            count -= 1\n\n        if count == 0:\n            return i\n\n    return -1\n\ndef inorderTraversal(root):\n    if not root:\n        return []\n\n    result = []\n    result += inorderTraversal(root.left)\n    result.append(root.val)\n    result += inorderTraversal(root.right)\n\n    return result\n\ns = \"4(2(3)(1))(6(5))\"\nroot = buildTree(s)\nresult = inorderTraversal(root)\nprint(result)\n",
      "metadata": {
        "trusted": true
      },
      "execution_count": 19,
      "outputs": [
        {
          "name": "stdout",
          "text": "[3, 2, 1, 4, 5, 6]\n",
          "output_type": "stream"
        }
      ]
    },
    {
      "cell_type": "code",
      "source": "",
      "metadata": {},
      "execution_count": null,
      "outputs": []
    },
    {
      "cell_type": "markdown",
      "source": "<aside>\n💡 **Question 5**\n\nGiven an array of characters chars, compress it using the following algorithm:\n\nBegin with an empty string s. For each group of **consecutive repeating characters** in chars:\n\n- If the group's length is 1, append the character to s.\n- Otherwise, append the character followed by the group's length.\n\nThe compressed string s **should not be returned separately**, but instead, be stored **in the input character array chars**. Note that group lengths that are 10 or longer will be split into multiple characters in chars.\n\nAfter you are done **modifying the input array,** return *the new length of the array*.\n\nYou must write an algorithm that uses only constant extra space.\n\n**Example 1:**\n\n**Input:** chars = [\"a\",\"a\",\"b\",\"b\",\"c\",\"c\",\"c\"]\n\n**Output:** Return 6, and the first 6 characters of the input array should be: [\"a\",\"2\",\"b\",\"2\",\"c\",\"3\"]\n\n**Explanation:**\n\nThe groups are \"aa\", \"bb\", and \"ccc\". This compresses to \"a2b2c3\".\n\n</aside>",
      "metadata": {}
    },
    {
      "cell_type": "code",
      "source": "def compress(chars):\n    write = 0  # Write pointer position\n    count = 1  # Count of consecutive repeating characters\n\n    for read in range(1, len(chars) + 1):\n        if read < len(chars) and chars[read] == chars[read - 1]:\n            count += 1\n        else:\n            chars[write] = chars[read - 1]\n            write += 1\n\n            if count > 1:\n                count_str = str(count)\n                for digit in count_str:\n                    chars[write] = digit\n                    write += 1\n\n            count = 1\n\n    return write\n",
      "metadata": {
        "trusted": true
      },
      "execution_count": 20,
      "outputs": []
    },
    {
      "cell_type": "code",
      "source": "chars = [\"a\", \"a\", \"b\", \"b\", \"c\", \"c\", \"c\"]\nnew_length = compress(chars)\ncompressed_chars = chars[:new_length]\n\nprint(new_length)\nprint(compressed_chars) \n",
      "metadata": {
        "trusted": true
      },
      "execution_count": 21,
      "outputs": [
        {
          "name": "stdout",
          "text": "6\n['a', '2', 'b', '2', 'c', '3']\n",
          "output_type": "stream"
        }
      ]
    },
    {
      "cell_type": "code",
      "source": "",
      "metadata": {},
      "execution_count": null,
      "outputs": []
    },
    {
      "cell_type": "markdown",
      "source": "<aside>\n💡 **Question 6**\n\nGiven two strings s and p, return *an array of all the start indices of* p*'s anagrams in* s. You may return the answer in **any order**.\n\nAn **Anagram** is a word or phrase formed by rearranging the letters of a different word or phrase, typically using all the original letters exactly once.\n\n**Example 1:**\n\n**Input:** s = \"cbaebabacd\", p = \"abc\"\n\n**Output:** [0,6]\n\n**Explanation:**\n\nThe substring with start index = 0 is \"cba\", which is an anagram of \"abc\".\n\nThe substring with start index = 6 is \"bac\", which is an anagram of \"abc\".\n\n</aside>",
      "metadata": {}
    },
    {
      "cell_type": "code",
      "source": "from collections import Counter\n\ndef findAnagrams(s, p):\n    result = []\n    len_s, len_p = len(s), len(p)\n    \n    freq_p = Counter(p)\n    freq_window = Counter(s[:len_p])\n    \n    left, right = 0, len_p\n    \n    while right <= len_s:\n        if freq_p == freq_window:\n            result.append(left)\n        \n        freq_window[s[left]] -= 1\n        if freq_window[s[left]] == 0:\n            del freq_window[s[left]]\n        \n        if right < len_s:\n            freq_window[s[right]] += 1\n        \n        left += 1\n        right += 1\n    \n    return result\n",
      "metadata": {
        "trusted": true
      },
      "execution_count": 22,
      "outputs": []
    },
    {
      "cell_type": "code",
      "source": "s = \"cbaebabacd\"\np = \"abc\"\nresult = findAnagrams(s, p)\nprint(result)\n",
      "metadata": {
        "trusted": true
      },
      "execution_count": 23,
      "outputs": [
        {
          "name": "stdout",
          "text": "[0, 6]\n",
          "output_type": "stream"
        }
      ]
    },
    {
      "cell_type": "code",
      "source": "",
      "metadata": {},
      "execution_count": null,
      "outputs": []
    },
    {
      "cell_type": "markdown",
      "source": "<aside>\n💡 **Question 7**\n\nGiven an encoded string, return its decoded string.\n\nThe encoding rule is: k[encoded_string], where the encoded_string inside the square brackets is being repeated exactly k times. Note that k is guaranteed to be a positive integer.\n\nYou may assume that the input string is always valid; there are no extra white spaces, square brackets are well-formed, etc. Furthermore, you may assume that the original data does not contain any digits and that digits are only for those repeat numbers, k. For example, there will not be input like 3a or 2[4].\n\nThe test cases are generated so that the length of the output will never exceed 105.\n\n**Example 1:**\n\n**Input:** s = \"3[a]2[bc]\"\n\n**Output:** \"aaabcbc\"\n\n</aside>",
      "metadata": {}
    },
    {
      "cell_type": "code",
      "source": "def decodeString(s):\n    stack = []\n    \n    for c in s:\n        if c != ']':\n            stack.append(c)\n        else:\n            decoded = ''\n            while stack and stack[-1] != '[':\n                decoded = stack.pop() + decoded\n            \n            stack.pop()  # Pop the opening bracket '['\n            \n            count = ''\n            while stack and stack[-1].isdigit():\n                count = stack.pop() + count\n            \n            decoded = decoded * int(count)\n            stack.append(decoded)\n    \n    return ''.join(stack)\n\n\n",
      "metadata": {
        "trusted": true
      },
      "execution_count": 27,
      "outputs": []
    },
    {
      "cell_type": "code",
      "source": "s = \"3[a]2[bc]\"\nresult = decodeString(s)\nprint(result)\n",
      "metadata": {
        "trusted": true
      },
      "execution_count": 28,
      "outputs": [
        {
          "name": "stdout",
          "text": "aaabcbc\n",
          "output_type": "stream"
        }
      ]
    },
    {
      "cell_type": "code",
      "source": "",
      "metadata": {},
      "execution_count": null,
      "outputs": []
    },
    {
      "cell_type": "markdown",
      "source": "<aside>\n💡 **Question 8**\n\nGiven two strings s and goal, return true *if you can swap two letters in* s *so the result is equal to* goal*, otherwise, return* false*.*\n\nSwapping letters is defined as taking two indices i and j (0-indexed) such that i != j and swapping the characters at s[i] and s[j].\n\n- For example, swapping at indices 0 and 2 in \"abcd\" results in \"cbad\".\n\n**Example 1:**\n\n**Input:** s = \"ab\", goal = \"ba\"\n\n**Output:** true\n\n**Explanation:** You can swap s[0] = 'a' and s[1] = 'b' to get \"ba\", which is equal to goal.\n\n</aside>",
      "metadata": {}
    },
    {
      "cell_type": "code",
      "source": "def buddyStrings(s, goal):\n    if len(s) != len(goal):\n        return False\n    \n    if s == goal and len(set(s)) < len(s):\n        return True\n    \n    mismatch_s = []\n    mismatch_goal = []\n    \n    for i in range(len(s)):\n        if s[i] != goal[i]:\n            mismatch_s.append(i)\n            mismatch_goal.append(i)\n    \n    if len(mismatch_s) != 2 or s[mismatch_s[0]] != goal[mismatch_goal[1]] or s[mismatch_s[1]] != goal[mismatch_goal[0]]:\n        return False\n    \n    return True\n",
      "metadata": {
        "trusted": true
      },
      "execution_count": 29,
      "outputs": []
    },
    {
      "cell_type": "code",
      "source": "s = \"ab\"\ngoal = \"ba\"\nresult = buddyStrings(s, goal)\nprint(result)\n",
      "metadata": {
        "trusted": true
      },
      "execution_count": 30,
      "outputs": [
        {
          "name": "stdout",
          "text": "True\n",
          "output_type": "stream"
        }
      ]
    },
    {
      "cell_type": "code",
      "source": "",
      "metadata": {},
      "execution_count": null,
      "outputs": []
    },
    {
      "cell_type": "code",
      "source": "",
      "metadata": {},
      "execution_count": null,
      "outputs": []
    },
    {
      "cell_type": "code",
      "source": "",
      "metadata": {},
      "execution_count": null,
      "outputs": []
    },
    {
      "cell_type": "code",
      "source": "",
      "metadata": {},
      "execution_count": null,
      "outputs": []
    },
    {
      "cell_type": "code",
      "source": "",
      "metadata": {},
      "execution_count": null,
      "outputs": []
    },
    {
      "cell_type": "code",
      "source": "",
      "metadata": {},
      "execution_count": null,
      "outputs": []
    }
  ]
}